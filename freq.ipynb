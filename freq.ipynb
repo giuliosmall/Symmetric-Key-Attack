{
 "cells": [
  {
   "cell_type": "code",
   "execution_count": 5,
   "metadata": {},
   "outputs": [],
   "source": [
    "### FUNCTION TO READ ANY FILE\n",
    "\n",
    "def read_file(file):\n",
    "    with open(file,'r') as f:\n",
    "        text = f.read()\n",
    "        f.close\n",
    "    return text"
   ]
  },
  {
   "cell_type": "code",
   "execution_count": 6,
   "metadata": {},
   "outputs": [],
   "source": [
    "cipher_text = read_file('ciphertext.txt')\n",
    "plain_text = read_file('plaintext.txt')"
   ]
  },
  {
   "cell_type": "code",
   "execution_count": 7,
   "metadata": {},
   "outputs": [],
   "source": [
    "## FREQUENCY ANALYSIS \n",
    "\n",
    "from operator import itemgetter\n",
    "\n",
    "#letters we are interested in dealing with frequency analysis\n",
    "alphabet = \"abcdefghijklmnopqrstuvwxyz\"\n",
    "\n",
    "def letter_frequencies(text, alphabet): #take text as input thar is the \n",
    "    occurences = {} # dictionary to store the letter frequencies\n",
    "    \n",
    "    for char in alphabet: #initializde the dictionary with 0 frequencies \n",
    "        occurences[char] = 0 \n",
    "    \n",
    "    for char in text:\n",
    "        if char in alphabet: #that are contained in the alphabet \n",
    "            occurences[char.lower()] += 1 #increment occurences of the given letter\n",
    "                \n",
    "    sorted_occurences_list = sorted(occurences.items(), key = itemgetter(1), reverse = True) \n",
    "    sorted_occurences_string = ''.join([i[0] for i in sorted_occurences_list])\n",
    "\n",
    "    #itemgetter(1) sorts based on value(occurencies) not key \n",
    "    return sorted_occurences_string"
   ]
  },
  {
   "cell_type": "code",
   "execution_count": 8,
   "metadata": {},
   "outputs": [],
   "source": [
    "# ONLY LETTER OCCURENCIES \n",
    "\n",
    "cipher_text_freq = letter_frequencies(cipher_text, alphabet)  #'ofhwibrspkuyzexvmltgdanqjc'\n",
    "plain_text_freq = letter_frequencies(plain_text,alphabet)     #'etoahnisrdlufwcmgypbkvxjqz'"
   ]
  }
 ],
 "metadata": {
  "kernelspec": {
   "display_name": "Python 3",
   "language": "python",
   "name": "python3"
  },
  "language_info": {
   "codemirror_mode": {
    "name": "ipython",
    "version": 3
   },
   "file_extension": ".py",
   "mimetype": "text/x-python",
   "name": "python",
   "nbconvert_exporter": "python",
   "pygments_lexer": "ipython3",
   "version": "3.7.3"
  }
 },
 "nbformat": 4,
 "nbformat_minor": 2
}
