def letter_count(text):
    
    #Returns a dictionary with the letter-frequency 
    #pair of the text parameter. 
    
    #Use a dictionary to store the the letter-frequency pair 
    letterCount = {}
    
    #Initialize the dictionary with 0 frequencies
    for letter in LETTERS:
        letterCount[letter] = 0   
        
    #Increment the occurrencies of the letters in the fext  
    for letter in text.lower():
        if letter in LETTERS:
            letterCount[letter] += 1
            
    return letterCount



def plot_letter_freq(letterCount):
   
    # Plot the histogram of the letter frequency pairs
    
    sorted_occ = sorted(letterCount.items(), key = itemgetter(1), reverse = True) 
    centers = range(len(LETTERS))
    plt.bar(centers, [i[1] for i in sorted_occ], align = 'center', tick_label = [i[0] for i in sorted_occ])
    plt.show()



def get_freq_order(message):

    #Returns a string of the alphabet letters arranged in order of most 
    #frequently occurring in the message parameter.
    
    #Dictionary of each letter and its frequency count (obtained with the previous function)
    letter2freq = letter_count(message)
     
    #Make a dictionary of each frequency count to each letter(s) with that frequency
    freq2letter = {}
    
    for key, value in letter2freq.items():
        if value in freq2letter:
            freq2letter[value].append(key)
        else:
            freq2letter[value] = [key]   
    
    #Sort the list of letters in reverse "ETAOIN" order and then convert them into a string
    #Use the "ETAOIN" letter frequency to determine the order of the letters with the same frequency 
    
    for freq in freq2letter: 
        #Sort the letters according to the ETAOIN.find output and in reverse order
        freq2letter[freq].sort(key = ETAOIN.find, reverse = False) 
        freq2letter[freq] = ''.join(freq2letter[freq])
    
    #Convert dictionaries with frequency-letter pairs into strings 
    
    freqPairs = list(freq2letter.items())   #Create a list of tuplets pairs (key, value)
    freqPairs.sort(key = itemgetter(0), reverse = True) #Sort them in ascending order according to value at index 0
    freqOrder = ''.join(list(map(itemgetter(1), freqPairs))) #map () maps all the element accessed using itemgetter() 
    
    return freqOrder
