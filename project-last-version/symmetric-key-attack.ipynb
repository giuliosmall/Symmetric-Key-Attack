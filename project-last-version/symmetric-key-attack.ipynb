{
 "cells": [
  {
   "cell_type": "code",
   "execution_count": 122,
   "metadata": {},
   "outputs": [],
   "source": [
    "import re\n",
    "import hashlib\n",
    "from pycipher import SimpleSubstitution as SimpleSub\n",
    "import random\n",
    "from ngram_score import ngram_score\n",
    "from operator import itemgetter"
   ]
  },
  {
   "cell_type": "code",
   "execution_count": 123,
   "metadata": {},
   "outputs": [],
   "source": [
    "# from practicalcryptography.com\n",
    "f = open(\"quadgrams.txt\", \"r\")\n",
    "qg = f.read()\n",
    "# load our quadgram statistics\n",
    "fitness = ngram_score(qg) "
   ]
  },
  {
   "cell_type": "code",
   "execution_count": 124,
   "metadata": {},
   "outputs": [],
   "source": [
    "ETAOIN  = 'etaoinshrdlcumwfgypbvkjxqz'\n",
    "LETTERS = 'abcdefghijklmnopqrstuvwxyz'\n",
    "cipher = ''\n",
    "corpus = ''\n",
    "h = ''\n",
    "hc = ''\n",
    "no_of_iterations = 10\n",
    "maxkey=''"
   ]
  },
  {
   "cell_type": "code",
   "execution_count": 125,
   "metadata": {},
   "outputs": [],
   "source": [
    "def slicer(text):\n",
    "    return text[:]\n",
    "\n",
    "def letter_count(text):\n",
    "    \n",
    "    #Returns a dictionary with the letter-frequency \n",
    "    #pair of the text parameter. \n",
    "    \n",
    "    #Use a dictionary to store the the letter-frequency pair \n",
    "    letterCount = {}\n",
    "    \n",
    "    #Initialize the dictionary with 0 frequencies\n",
    "    for letter in LETTERS:\n",
    "        letterCount[letter] = 0   \n",
    "        \n",
    "    #Increment the occurrencies of the letters in the fext  \n",
    "    for letter in text.lower():\n",
    "        if letter in LETTERS:\n",
    "            letterCount[letter] += 1\n",
    "            \n",
    "    return letterCount\n",
    "\n",
    "def plot_letter_freq(letterCount):\n",
    "   \n",
    "    # Plot the histogram of the letter frequency pairs\n",
    "    \n",
    "    sorted_occ = sorted(letterCount.items(), key = itemgetter(1), reverse = True) \n",
    "    centers = range(len(LETTERS))\n",
    "    plt.bar(centers, [i[1] for i in sorted_occ], align = 'center', tick_label = [i[0] for i in sorted_occ])\n",
    "    plt.show()\n",
    "\n",
    "def get_freq_order(message):\n",
    "\n",
    "    #Returns a string of the alphabet letters arranged in order of most \n",
    "    #frequently occurring in the message parameter.\n",
    "    \n",
    "    #Dictionary of each letter and its frequency count (obtained with the previous function)\n",
    "    letter2freq = letter_count(message)\n",
    "     \n",
    "    #Make a dictionary of each frequency count to each letter(s) with that frequency\n",
    "    freq2letter = {}\n",
    "    \n",
    "    for key, value in letter2freq.items():\n",
    "        if value in freq2letter:\n",
    "            freq2letter[value].append(key)\n",
    "        else:\n",
    "            freq2letter[value] = [key]   \n",
    "    \n",
    "    #Sort the list of letters in reverse \"ETAOIN\" order and then convert them into a string\n",
    "    #Use the \"ETAOIN\" letter frequency to determine the order of the letters with the same frequency \n",
    "    \n",
    "    for freq in freq2letter: \n",
    "        #Sort the letters according to the ETAOIN.find output and in reverse order\n",
    "        freq2letter[freq].sort(key = ETAOIN.find, reverse = False) \n",
    "        freq2letter[freq] = ''.join(freq2letter[freq])\n",
    "    \n",
    "    #Convert dictionaries with frequency-letter pairs into strings \n",
    "    \n",
    "    freqPairs = list(freq2letter.items())   #Create a list of tuplets pairs (key, value)\n",
    "    freqPairs.sort(key = itemgetter(0), reverse = True) #Sort them in ascending order according to value at index 0\n",
    "    freqOrder = ''.join(list(map(itemgetter(1), freqPairs))) #map () maps all the element accessed using itemgetter() \n",
    "    \n",
    "    return freqOrder"
   ]
  },
  {
   "cell_type": "code",
   "execution_count": 126,
   "metadata": {},
   "outputs": [],
   "source": [
    "def manual_swap(cipher):\n",
    "    key_swapped = 'epmuhxvsakyrfljdbqgntcziow'\n",
    "    res = SimpleSub(key_swapped).decipher(cipher)\n",
    "    return res"
   ]
  },
  {
   "cell_type": "code",
   "execution_count": 127,
   "metadata": {},
   "outputs": [],
   "source": [
    "with open('ciphertext.txt', 'r') as c:\n",
    "    cipher = c.read()\n",
    "    cipher = slicer(cipher)\n",
    "\n",
    "with open('corpus.txt', 'r') as c:\n",
    "    corpus = c.read()\n",
    "    corpus = slicer(corpus)\n",
    "\n",
    "with open ('sha256sum.txt') as hf:\n",
    "    h=hf.read()"
   ]
  },
  {
   "cell_type": "code",
   "execution_count": 128,
   "metadata": {},
   "outputs": [
    {
     "output_type": "stream",
     "name": "stdout",
     "text": [
      "Freq Corpus :  etaonihsrdluwcmfgypbvkxjqz \nFreq Cipher :  hnejlasgqurtzmfvxodpcyikbw\n"
     ]
    }
   ],
   "source": [
    "sorted_freq_corpus = get_freq_order(corpus)\n",
    "sorted_freq_cipher = get_freq_order(cipher)\n",
    "# here wwe go for the manual swap to get the variable key_swapped used above\n",
    "print('Freq Corpus : ', sorted_freq_corpus,'\\nFreq Cipher : ', sorted_freq_cipher)"
   ]
  },
  {
   "cell_type": "code",
   "execution_count": 121,
   "metadata": {
    "tags": []
   },
   "outputs": [
    {
     "output_type": "stream",
     "name": "stdout",
     "text": [
      "\n",
      "..Brute Forcing the cypher..\n",
      "You may have to wait several iterations\n",
      "\n",
      "best score so far: -9310.422852695394\n",
      "    best key: epfuhxvsakyrzljdwqgntcmiob\n",
      "    plaintext: up at all!\n",
      "\n",
      "the little princess got up, rang for the maid, and hurriedly and merrily\n",
      "began to devise and carry out a plan of how princess mary should be\n",
      "dressed. princess marys self-esteem was wounded by the fact that\n",
      "the arrival of a suitor agitated her, and still more so by both\n",
      "her companions not having the least conception that it could be\n",
      "otherwise. to tell them that she felt ashamed for herself and for them\n",
      "would be to betray her agitation, while to decline their offers to\n",
      "dress her would prolong their banter and insistence. she flushed, her\n",
      "beautiful eyes grew dim, red blotches came on her face, and it took\n",
      "on the unattractive martyrlike expression it so often wore, as she\n",
      "submitted herself to mademoiselle bourienne and lise. both these women\n",
      "quite sincerely tried to make her look pretty. she was so plain that\n",
      "neither of them could think of her as a rival, so they began dressing\n",
      "her with perfect sincerity, and with the nave and firm conviction\n",
      "women have that dress can make a fa\n",
      "The digest is :  f9f85f639e1b163192126df07f448b6eab43ccf5349cb06e51494ecbe17aa447\n"
     ]
    },
    {
     "output_type": "error",
     "ename": "KeyboardInterrupt",
     "evalue": "",
     "traceback": [
      "\u001b[0;31m---------------------------------------------------------------------------\u001b[0m",
      "\u001b[0;31mKeyboardInterrupt\u001b[0m                         Traceback (most recent call last)",
      "\u001b[0;32m<ipython-input-121-ba8c69dffe1c>\u001b[0m in \u001b[0;36m<module>\u001b[0;34m\u001b[0m\n\u001b[1;32m     22\u001b[0m             \u001b[0;31m# swap two characters in the child\u001b[0m\u001b[0;34m\u001b[0m\u001b[0;34m\u001b[0m\u001b[0;34m\u001b[0m\u001b[0m\n\u001b[1;32m     23\u001b[0m             \u001b[0mchild\u001b[0m\u001b[0;34m[\u001b[0m\u001b[0ma\u001b[0m\u001b[0;34m]\u001b[0m\u001b[0;34m,\u001b[0m\u001b[0mchild\u001b[0m\u001b[0;34m[\u001b[0m\u001b[0mb\u001b[0m\u001b[0;34m]\u001b[0m \u001b[0;34m=\u001b[0m \u001b[0mchild\u001b[0m\u001b[0;34m[\u001b[0m\u001b[0mb\u001b[0m\u001b[0;34m]\u001b[0m\u001b[0;34m,\u001b[0m\u001b[0mchild\u001b[0m\u001b[0;34m[\u001b[0m\u001b[0ma\u001b[0m\u001b[0;34m]\u001b[0m\u001b[0;34m\u001b[0m\u001b[0;34m\u001b[0m\u001b[0m\n\u001b[0;32m---> 24\u001b[0;31m             \u001b[0mdeciphered\u001b[0m \u001b[0;34m=\u001b[0m \u001b[0mSimpleSub\u001b[0m\u001b[0;34m(\u001b[0m\u001b[0mchild\u001b[0m\u001b[0;34m)\u001b[0m\u001b[0;34m.\u001b[0m\u001b[0mdecipher\u001b[0m\u001b[0;34m(\u001b[0m\u001b[0mcipher\u001b[0m\u001b[0;34m,\u001b[0m \u001b[0mkeep_punct\u001b[0m\u001b[0;34m=\u001b[0m\u001b[0;32mTrue\u001b[0m\u001b[0;34m)\u001b[0m\u001b[0;34m.\u001b[0m\u001b[0mlower\u001b[0m\u001b[0;34m(\u001b[0m\u001b[0;34m)\u001b[0m\u001b[0;34m\u001b[0m\u001b[0;34m\u001b[0m\u001b[0m\n\u001b[0m\u001b[1;32m     25\u001b[0m             \u001b[0mscore\u001b[0m \u001b[0;34m=\u001b[0m \u001b[0mfitness\u001b[0m\u001b[0;34m.\u001b[0m\u001b[0mscore\u001b[0m\u001b[0;34m(\u001b[0m\u001b[0mdeciphered\u001b[0m\u001b[0;34m)\u001b[0m\u001b[0;34m\u001b[0m\u001b[0;34m\u001b[0m\u001b[0m\n\u001b[1;32m     26\u001b[0m             \u001b[0;31m# if the child was better, replace the parent with it\u001b[0m\u001b[0;34m\u001b[0m\u001b[0;34m\u001b[0m\u001b[0;34m\u001b[0m\u001b[0m\n",
      "\u001b[0;32m~/opt/anaconda3/lib/python3.7/site-packages/pycipher/simplesubstitution.py\u001b[0m in \u001b[0;36mdecipher\u001b[0;34m(self, string, keep_punct)\u001b[0m\n\u001b[1;32m     61\u001b[0m         \u001b[0mret\u001b[0m \u001b[0;34m=\u001b[0m \u001b[0;34m''\u001b[0m\u001b[0;34m\u001b[0m\u001b[0;34m\u001b[0m\u001b[0m\n\u001b[1;32m     62\u001b[0m         \u001b[0;32mfor\u001b[0m \u001b[0mc\u001b[0m \u001b[0;32min\u001b[0m \u001b[0mstring\u001b[0m\u001b[0;34m.\u001b[0m\u001b[0mupper\u001b[0m\u001b[0;34m(\u001b[0m\u001b[0;34m)\u001b[0m\u001b[0;34m:\u001b[0m\u001b[0;34m\u001b[0m\u001b[0;34m\u001b[0m\u001b[0m\n\u001b[0;32m---> 63\u001b[0;31m             \u001b[0;32mif\u001b[0m \u001b[0mc\u001b[0m\u001b[0;34m.\u001b[0m\u001b[0misalpha\u001b[0m\u001b[0;34m(\u001b[0m\u001b[0;34m)\u001b[0m\u001b[0;34m:\u001b[0m \u001b[0mret\u001b[0m \u001b[0;34m+=\u001b[0m \u001b[0mself\u001b[0m\u001b[0;34m.\u001b[0m\u001b[0minvkey\u001b[0m\u001b[0;34m[\u001b[0m\u001b[0mself\u001b[0m\u001b[0;34m.\u001b[0m\u001b[0ma2i\u001b[0m\u001b[0;34m(\u001b[0m\u001b[0mc\u001b[0m\u001b[0;34m)\u001b[0m\u001b[0;34m]\u001b[0m\u001b[0;34m\u001b[0m\u001b[0;34m\u001b[0m\u001b[0m\n\u001b[0m\u001b[1;32m     64\u001b[0m             \u001b[0;32melse\u001b[0m\u001b[0;34m:\u001b[0m \u001b[0mret\u001b[0m \u001b[0;34m+=\u001b[0m \u001b[0mc\u001b[0m\u001b[0;34m\u001b[0m\u001b[0;34m\u001b[0m\u001b[0m\n\u001b[1;32m     65\u001b[0m         \u001b[0;32mreturn\u001b[0m \u001b[0mret\u001b[0m\u001b[0;34m\u001b[0m\u001b[0;34m\u001b[0m\u001b[0m\n",
      "\u001b[0;32m~/opt/anaconda3/lib/python3.7/site-packages/pycipher/base.py\u001b[0m in \u001b[0;36ma2i\u001b[0;34m(self, ch)\u001b[0m\n\u001b[1;32m     19\u001b[0m            \u001b[0;34m'L'\u001b[0m\u001b[0;34m:\u001b[0m\u001b[0;36m11\u001b[0m\u001b[0;34m,\u001b[0m\u001b[0;34m'M'\u001b[0m\u001b[0;34m:\u001b[0m\u001b[0;36m12\u001b[0m\u001b[0;34m,\u001b[0m\u001b[0;34m'N'\u001b[0m\u001b[0;34m:\u001b[0m\u001b[0;36m13\u001b[0m\u001b[0;34m,\u001b[0m\u001b[0;34m'O'\u001b[0m\u001b[0;34m:\u001b[0m\u001b[0;36m14\u001b[0m\u001b[0;34m,\u001b[0m\u001b[0;34m'P'\u001b[0m\u001b[0;34m:\u001b[0m\u001b[0;36m15\u001b[0m\u001b[0;34m,\u001b[0m\u001b[0;34m'Q'\u001b[0m\u001b[0;34m:\u001b[0m\u001b[0;36m16\u001b[0m\u001b[0;34m,\u001b[0m\u001b[0;34m'R'\u001b[0m\u001b[0;34m:\u001b[0m\u001b[0;36m17\u001b[0m\u001b[0;34m,\u001b[0m\u001b[0;34m'S'\u001b[0m\u001b[0;34m:\u001b[0m\u001b[0;36m18\u001b[0m\u001b[0;34m,\u001b[0m\u001b[0;34m'T'\u001b[0m\u001b[0;34m:\u001b[0m\u001b[0;36m19\u001b[0m\u001b[0;34m,\u001b[0m\u001b[0;34m'U'\u001b[0m\u001b[0;34m:\u001b[0m\u001b[0;36m20\u001b[0m\u001b[0;34m,\u001b[0m\u001b[0;34m\u001b[0m\u001b[0;34m\u001b[0m\u001b[0m\n\u001b[1;32m     20\u001b[0m            'V':21,'W':22,'X':23,'Y':24,'Z':25}\n\u001b[0;32m---> 21\u001b[0;31m         \u001b[0;32mreturn\u001b[0m \u001b[0marr\u001b[0m\u001b[0;34m[\u001b[0m\u001b[0mch\u001b[0m\u001b[0;34m]\u001b[0m\u001b[0;34m\u001b[0m\u001b[0;34m\u001b[0m\u001b[0m\n\u001b[0m\u001b[1;32m     22\u001b[0m \u001b[0;34m\u001b[0m\u001b[0m\n\u001b[1;32m     23\u001b[0m     \u001b[0;32mdef\u001b[0m \u001b[0mi2a\u001b[0m\u001b[0;34m(\u001b[0m\u001b[0mself\u001b[0m\u001b[0;34m,\u001b[0m\u001b[0mi\u001b[0m\u001b[0;34m)\u001b[0m\u001b[0;34m:\u001b[0m\u001b[0;34m\u001b[0m\u001b[0;34m\u001b[0m\u001b[0m\n",
      "\u001b[0;31mKeyboardInterrupt\u001b[0m: "
     ]
    }
   ],
   "source": [
    "ptext_cndt = manual_swap(cipher)\n",
    "digest = hashlib.sha256(ptext_cndt.encode('utf-8')).hexdigest()\n",
    "\n",
    "if digest == h:\n",
    "    print('Found \\nKey: ', sorted_freq_cipher)\n",
    "else:\n",
    "    cipher = cipher.lower()\n",
    "    maxkey = list('abcdefghijklmnopqrstuvwxyz')\n",
    "    maxscore = -99e9\n",
    "    parentscore,parentkey = maxscore,maxkey[:]\n",
    "    print (\"\\n..Brute Forcing the cypher..\\nYou may have to wait several iterations\")\n",
    "    i = 0\n",
    "    while (i<no_of_iterations and digest != h):\n",
    "        random.shuffle(parentkey)\n",
    "        deciphered = SimpleSub(parentkey).decipher(cipher, keep_punct=True).lower()\n",
    "        parentscore = fitness.score(deciphered)\n",
    "        count = 0\n",
    "        while count < 1000:\n",
    "            a = random.randint(0,25)\n",
    "            b = random.randint(0,25)\n",
    "            child = parentkey[:]\n",
    "            # swap two characters in the child\n",
    "            child[a],child[b] = child[b],child[a]\n",
    "            deciphered = SimpleSub(child).decipher(cipher, keep_punct=True).lower()\n",
    "            score = fitness.score(deciphered)\n",
    "            # if the child was better, replace the parent with it\n",
    "            if score > parentscore:\n",
    "                parentscore = score\n",
    "                parentkey = child[:]\n",
    "                count = 0\n",
    "            count = count+1\n",
    "        # keep track of best score seen so far, keys with best scores are only used for decryption of the ciphertext now, each iteration and try is displayed\n",
    "        if parentscore>maxscore:\n",
    "            i = i+1\n",
    "            maxscore,maxkey = parentscore,parentkey[:]\n",
    "            print ('\\nbest score so far:',maxscore)\n",
    "            ss = SimpleSub(maxkey)\n",
    "            plain_t = ss.decipher(cipher, keep_punct=True)\n",
    "            print ('    best key: '+''.join(maxkey))\n",
    "            print ('    plaintext: '+plain_t.lower())\n",
    "            digest = hashlib.sha256(plain_t.lower().encode('utf-8')).hexdigest()\n",
    "            print(\"The digest is : \" , digest)\n",
    "            if digest == h:\n",
    "                print('Found!')\n",
    "\n",
    "print('\\n..\\n..\\nThe Correct key: '+''.join(maxkey))"
   ]
  },
  {
   "cell_type": "code",
   "execution_count": null,
   "metadata": {},
   "outputs": [],
   "source": []
  },
  {
   "cell_type": "code",
   "execution_count": null,
   "metadata": {},
   "outputs": [],
   "source": []
  }
 ],
 "metadata": {
  "environment": {
   "name": "common-cpu.m56",
   "type": "gcloud",
   "uri": "gcr.io/deeplearning-platform-release/base-cpu:m56"
  },
  "kernelspec": {
   "display_name": "Python 3",
   "language": "python",
   "name": "python3"
  },
  "language_info": {
   "codemirror_mode": {
    "name": "ipython",
    "version": 3
   },
   "file_extension": ".py",
   "mimetype": "text/x-python",
   "name": "python",
   "nbconvert_exporter": "python",
   "pygments_lexer": "ipython3",
   "version": "3.7.6-final"
  }
 },
 "nbformat": 4,
 "nbformat_minor": 4
}